{
  "nbformat": 4,
  "nbformat_minor": 0,
  "metadata": {
    "colab": {
      "name": "nltk_TextProcessing.ipynb",
      "provenance": [],
      "collapsed_sections": [],
      "authorship_tag": "ABX9TyNW0vI7O3i6ZcYBzS77oDcy",
      "include_colab_link": true
    },
    "kernelspec": {
      "name": "python3",
      "display_name": "Python 3"
    },
    "language_info": {
      "name": "python"
    }
  },
  "cells": [
    {
      "cell_type": "markdown",
      "metadata": {
        "id": "view-in-github",
        "colab_type": "text"
      },
      "source": [
        "<a href=\"https://colab.research.google.com/github/Yogeshkumar170201/Machine-Learning/blob/main/nltk_TextProcessing.ipynb\" target=\"_parent\"><img src=\"https://colab.research.google.com/assets/colab-badge.svg\" alt=\"Open In Colab\"/></a>"
      ]
    },
    {
      "cell_type": "markdown",
      "metadata": {
        "id": "uwRCdQh2-kho"
      },
      "source": [
        "**Text Processing**"
      ]
    },
    {
      "cell_type": "markdown",
      "metadata": {
        "id": "WHHjTSi5_Eby"
      },
      "source": [
        "**Natural Language Pre-Processing**"
      ]
    },
    {
      "cell_type": "code",
      "metadata": {
        "id": "njxmqDZ397n2"
      },
      "source": [
        "import nltk"
      ],
      "execution_count": 53,
      "outputs": []
    },
    {
      "cell_type": "code",
      "metadata": {
        "colab": {
          "base_uri": "https://localhost:8080/"
        },
        "id": "E7QUOV_tCuJJ",
        "outputId": "1918e935-df01-4974-a315-bfdf352a53f1"
      },
      "source": [
        "nltk.download('brown')\n",
        "from nltk.corpus import brown"
      ],
      "execution_count": 54,
      "outputs": [
        {
          "output_type": "stream",
          "text": [
            "[nltk_data] Downloading package brown to /root/nltk_data...\n",
            "[nltk_data]   Package brown is already up-to-date!\n"
          ],
          "name": "stdout"
        }
      ]
    },
    {
      "cell_type": "code",
      "metadata": {
        "id": "NmoOgXg-ViFU"
      },
      "source": [
        "brown?"
      ],
      "execution_count": 104,
      "outputs": []
    },
    {
      "cell_type": "code",
      "metadata": {
        "colab": {
          "base_uri": "https://localhost:8080/"
        },
        "id": "v1fhi5L0Eib4",
        "outputId": "de526210-4527-4ef8-8a03-fe07d2896ba4"
      },
      "source": [
        "brown.categories()"
      ],
      "execution_count": 55,
      "outputs": [
        {
          "output_type": "execute_result",
          "data": {
            "text/plain": [
              "['adventure',\n",
              " 'belles_lettres',\n",
              " 'editorial',\n",
              " 'fiction',\n",
              " 'government',\n",
              " 'hobbies',\n",
              " 'humor',\n",
              " 'learned',\n",
              " 'lore',\n",
              " 'mystery',\n",
              " 'news',\n",
              " 'religion',\n",
              " 'reviews',\n",
              " 'romance',\n",
              " 'science_fiction']"
            ]
          },
          "metadata": {
            "tags": []
          },
          "execution_count": 55
        }
      ]
    },
    {
      "cell_type": "code",
      "metadata": {
        "colab": {
          "base_uri": "https://localhost:8080/"
        },
        "id": "QAmy39djG6WU",
        "outputId": "e1d28810-cf98-4f37-8174-491080ee1414"
      },
      "source": [
        "brown.words()"
      ],
      "execution_count": 56,
      "outputs": [
        {
          "output_type": "execute_result",
          "data": {
            "text/plain": [
              "['The', 'Fulton', 'County', 'Grand', 'Jury', 'said', ...]"
            ]
          },
          "metadata": {
            "tags": []
          },
          "execution_count": 56
        }
      ]
    },
    {
      "cell_type": "code",
      "metadata": {
        "id": "9Lz0orebHO5T"
      },
      "source": [
        "data = brown.sents(categories=[\"adventure\"])"
      ],
      "execution_count": 57,
      "outputs": []
    },
    {
      "cell_type": "code",
      "metadata": {
        "colab": {
          "base_uri": "https://localhost:8080/"
        },
        "id": "Be5_jxt5HZOO",
        "outputId": "e954e795-0d91-4ec2-8cfe-ace95e224934"
      },
      "source": [
        "data"
      ],
      "execution_count": 58,
      "outputs": [
        {
          "output_type": "execute_result",
          "data": {
            "text/plain": [
              "[['Dan', 'Morgan', 'told', 'himself', 'he', 'would', 'forget', 'Ann', 'Turner', '.'], ['He', 'was', 'well', 'rid', 'of', 'her', '.'], ...]"
            ]
          },
          "metadata": {
            "tags": []
          },
          "execution_count": 58
        }
      ]
    },
    {
      "cell_type": "code",
      "metadata": {
        "colab": {
          "base_uri": "https://localhost:8080/"
        },
        "id": "nEv6s9e6He1z",
        "outputId": "2d5b7a38-1ca7-4456-c381-b2a831e11b1d"
      },
      "source": [
        "len(data)"
      ],
      "execution_count": 59,
      "outputs": [
        {
          "output_type": "execute_result",
          "data": {
            "text/plain": [
              "4637"
            ]
          },
          "metadata": {
            "tags": []
          },
          "execution_count": 59
        }
      ]
    },
    {
      "cell_type": "code",
      "metadata": {
        "colab": {
          "base_uri": "https://localhost:8080/"
        },
        "id": "Mzo3MZmmHhHh",
        "outputId": "561d79b7-c5b3-42a2-f425-00210da10d02"
      },
      "source": [
        "data[0]"
      ],
      "execution_count": 60,
      "outputs": [
        {
          "output_type": "execute_result",
          "data": {
            "text/plain": [
              "['Dan',\n",
              " 'Morgan',\n",
              " 'told',\n",
              " 'himself',\n",
              " 'he',\n",
              " 'would',\n",
              " 'forget',\n",
              " 'Ann',\n",
              " 'Turner',\n",
              " '.']"
            ]
          },
          "metadata": {
            "tags": []
          },
          "execution_count": 60
        }
      ]
    },
    {
      "cell_type": "code",
      "metadata": {
        "colab": {
          "base_uri": "https://localhost:8080/",
          "height": 35
        },
        "id": "ZhpxKe2gHky0",
        "outputId": "d870fb23-f621-4d62-e89b-df36023dceac"
      },
      "source": [
        "\" \".join(data[0])"
      ],
      "execution_count": 61,
      "outputs": [
        {
          "output_type": "execute_result",
          "data": {
            "application/vnd.google.colaboratory.intrinsic+json": {
              "type": "string"
            },
            "text/plain": [
              "'Dan Morgan told himself he would forget Ann Turner .'"
            ]
          },
          "metadata": {
            "tags": []
          },
          "execution_count": 61
        }
      ]
    },
    {
      "cell_type": "code",
      "metadata": {
        "id": "TDjEX3u7HtaZ"
      },
      "source": [
        "data = brown.sents(categories=[\"romance\"])"
      ],
      "execution_count": 62,
      "outputs": []
    },
    {
      "cell_type": "code",
      "metadata": {
        "colab": {
          "base_uri": "https://localhost:8080/"
        },
        "id": "R8iAioLeH2Vt",
        "outputId": "8bd96717-e347-43fd-ea8f-92491b9ef345"
      },
      "source": [
        "len(data)"
      ],
      "execution_count": 63,
      "outputs": [
        {
          "output_type": "execute_result",
          "data": {
            "text/plain": [
              "4431"
            ]
          },
          "metadata": {
            "tags": []
          },
          "execution_count": 63
        }
      ]
    },
    {
      "cell_type": "code",
      "metadata": {
        "colab": {
          "base_uri": "https://localhost:8080/",
          "height": 52
        },
        "id": "C_Rak-4ZH40P",
        "outputId": "07106ed2-0fc5-451d-d8c3-23ed6734be3b"
      },
      "source": [
        "\" \".join(data[3])"
      ],
      "execution_count": 64,
      "outputs": [
        {
          "output_type": "execute_result",
          "data": {
            "application/vnd.google.colaboratory.intrinsic+json": {
              "type": "string"
            },
            "text/plain": [
              "'Yet if he were not there , they would have missed him , as they would have missed the sounds of bees buzzing against the screen door in early June ; ;'"
            ]
          },
          "metadata": {
            "tags": []
          },
          "execution_count": 64
        }
      ]
    },
    {
      "cell_type": "code",
      "metadata": {
        "id": "Jyna0hDGIA-k"
      },
      "source": [
        "data = brown.sents(categories=[\"adventure\"])"
      ],
      "execution_count": 105,
      "outputs": []
    },
    {
      "cell_type": "code",
      "metadata": {
        "colab": {
          "base_uri": "https://localhost:8080/",
          "height": 35
        },
        "id": "A1Mpo4OUIKVf",
        "outputId": "b1f2eebc-b0dd-46c8-e36d-4746a475d7ec"
      },
      "source": [
        "\" \".join(data[3])"
      ],
      "execution_count": 111,
      "outputs": [
        {
          "output_type": "execute_result",
          "data": {
            "application/vnd.google.colaboratory.intrinsic+json": {
              "type": "string"
            },
            "text/plain": [
              "\"If he had married her , he'd have been asking for trouble .\""
            ]
          },
          "metadata": {
            "tags": []
          },
          "execution_count": 111
        }
      ]
    },
    {
      "cell_type": "code",
      "metadata": {
        "colab": {
          "base_uri": "https://localhost:8080/"
        },
        "id": "R17UUZbnIQ-e",
        "outputId": "64ae0f6f-88d3-4dd8-e828-f486eceafcc8"
      },
      "source": [
        "brown.words()"
      ],
      "execution_count": 67,
      "outputs": [
        {
          "output_type": "execute_result",
          "data": {
            "text/plain": [
              "['The', 'Fulton', 'County', 'Grand', 'Jury', 'said', ...]"
            ]
          },
          "metadata": {
            "tags": []
          },
          "execution_count": 67
        }
      ]
    },
    {
      "cell_type": "code",
      "metadata": {
        "id": "n6t0ArOBIkUj"
      },
      "source": [
        "brown.words?"
      ],
      "execution_count": 68,
      "outputs": []
    },
    {
      "cell_type": "code",
      "metadata": {
        "colab": {
          "base_uri": "https://localhost:8080/"
        },
        "id": "f2Ylb5wbIoAj",
        "outputId": "67cfe293-fde9-4200-d31a-4a545c54f696"
      },
      "source": [
        "len(brown.words())"
      ],
      "execution_count": 69,
      "outputs": [
        {
          "output_type": "execute_result",
          "data": {
            "text/plain": [
              "1161192"
            ]
          },
          "metadata": {
            "tags": []
          },
          "execution_count": 69
        }
      ]
    },
    {
      "cell_type": "markdown",
      "metadata": {
        "id": "pZijYfQ7IkUC"
      },
      "source": [
        "#**Tokenization**"
      ]
    },
    {
      "cell_type": "code",
      "metadata": {
        "id": "SNAXbAXYIvZ6"
      },
      "source": [
        "from nltk.tokenize import sent_tokenize, word_tokenize"
      ],
      "execution_count": 70,
      "outputs": []
    },
    {
      "cell_type": "code",
      "metadata": {
        "id": "DnWYbXIDI-5S"
      },
      "source": [
        "document = \"\"\" It was a good movie. The cast was amazing and I liked the story. \n",
        "I went to the movie hall to see it.\n",
        "\"\"\"\n",
        "\n",
        "\n",
        "sentence = \"ML is OP and @Yogesh.com likes ML\""
      ],
      "execution_count": 92,
      "outputs": []
    },
    {
      "cell_type": "code",
      "metadata": {
        "colab": {
          "base_uri": "https://localhost:8080/"
        },
        "id": "6no76XqFKKzi",
        "outputId": "ea0b6af3-7a67-4a72-ea84-d0619300bdd8"
      },
      "source": [
        "sents = sent_tokenize(document)\n",
        "print(sents)\n",
        "print(len(sents))"
      ],
      "execution_count": 93,
      "outputs": [
        {
          "output_type": "stream",
          "text": [
            "[' It was a good movie.', 'The cast was amazing and I liked the story.', 'I went to the movie hall to see it.']\n",
            "3\n"
          ],
          "name": "stdout"
        }
      ]
    },
    {
      "cell_type": "code",
      "metadata": {
        "colab": {
          "base_uri": "https://localhost:8080/"
        },
        "id": "oWHgmISwLm9m",
        "outputId": "ab1a4bdb-8c62-4642-d255-f714f6781be1"
      },
      "source": [
        "words = word_tokenize(sentence) # Also breaks special characters\n",
        "print(words)\n",
        "print(len(words))"
      ],
      "execution_count": 95,
      "outputs": [
        {
          "output_type": "stream",
          "text": [
            "['ML', 'is', 'OP', 'and', '@', 'Yogesh.com', 'likes', 'ML']\n",
            "8\n"
          ],
          "name": "stdout"
        }
      ]
    },
    {
      "cell_type": "markdown",
      "metadata": {
        "id": "82mNT75cNXTg"
      },
      "source": [
        "#**Stop** **Word** **Removal**"
      ]
    },
    {
      "cell_type": "code",
      "metadata": {
        "id": "NIUTA__8MOaP",
        "colab": {
          "base_uri": "https://localhost:8080/"
        },
        "outputId": "7c3d2ee6-54c6-4a02-a593-a721fa2c4738"
      },
      "source": [
        "nltk.download('stopwords')\n",
        "from nltk.corpus import stopwords"
      ],
      "execution_count": 76,
      "outputs": [
        {
          "output_type": "stream",
          "text": [
            "[nltk_data] Downloading package stopwords to /root/nltk_data...\n",
            "[nltk_data]   Unzipping corpora/stopwords.zip.\n"
          ],
          "name": "stdout"
        }
      ]
    },
    {
      "cell_type": "code",
      "metadata": {
        "id": "i9xEkleuNV_w"
      },
      "source": [
        "sw = set(stopwords.words('english'))"
      ],
      "execution_count": 77,
      "outputs": []
    },
    {
      "cell_type": "code",
      "metadata": {
        "colab": {
          "base_uri": "https://localhost:8080/"
        },
        "id": "W8jFG8LxOoD9",
        "outputId": "1ea53e29-84ed-488f-db68-f61946836211"
      },
      "source": [
        "sw"
      ],
      "execution_count": 78,
      "outputs": [
        {
          "output_type": "execute_result",
          "data": {
            "text/plain": [
              "{'a',\n",
              " 'about',\n",
              " 'above',\n",
              " 'after',\n",
              " 'again',\n",
              " 'against',\n",
              " 'ain',\n",
              " 'all',\n",
              " 'am',\n",
              " 'an',\n",
              " 'and',\n",
              " 'any',\n",
              " 'are',\n",
              " 'aren',\n",
              " \"aren't\",\n",
              " 'as',\n",
              " 'at',\n",
              " 'be',\n",
              " 'because',\n",
              " 'been',\n",
              " 'before',\n",
              " 'being',\n",
              " 'below',\n",
              " 'between',\n",
              " 'both',\n",
              " 'but',\n",
              " 'by',\n",
              " 'can',\n",
              " 'couldn',\n",
              " \"couldn't\",\n",
              " 'd',\n",
              " 'did',\n",
              " 'didn',\n",
              " \"didn't\",\n",
              " 'do',\n",
              " 'does',\n",
              " 'doesn',\n",
              " \"doesn't\",\n",
              " 'doing',\n",
              " 'don',\n",
              " \"don't\",\n",
              " 'down',\n",
              " 'during',\n",
              " 'each',\n",
              " 'few',\n",
              " 'for',\n",
              " 'from',\n",
              " 'further',\n",
              " 'had',\n",
              " 'hadn',\n",
              " \"hadn't\",\n",
              " 'has',\n",
              " 'hasn',\n",
              " \"hasn't\",\n",
              " 'have',\n",
              " 'haven',\n",
              " \"haven't\",\n",
              " 'having',\n",
              " 'he',\n",
              " 'her',\n",
              " 'here',\n",
              " 'hers',\n",
              " 'herself',\n",
              " 'him',\n",
              " 'himself',\n",
              " 'his',\n",
              " 'how',\n",
              " 'i',\n",
              " 'if',\n",
              " 'in',\n",
              " 'into',\n",
              " 'is',\n",
              " 'isn',\n",
              " \"isn't\",\n",
              " 'it',\n",
              " \"it's\",\n",
              " 'its',\n",
              " 'itself',\n",
              " 'just',\n",
              " 'll',\n",
              " 'm',\n",
              " 'ma',\n",
              " 'me',\n",
              " 'mightn',\n",
              " \"mightn't\",\n",
              " 'more',\n",
              " 'most',\n",
              " 'mustn',\n",
              " \"mustn't\",\n",
              " 'my',\n",
              " 'myself',\n",
              " 'needn',\n",
              " \"needn't\",\n",
              " 'no',\n",
              " 'nor',\n",
              " 'not',\n",
              " 'now',\n",
              " 'o',\n",
              " 'of',\n",
              " 'off',\n",
              " 'on',\n",
              " 'once',\n",
              " 'only',\n",
              " 'or',\n",
              " 'other',\n",
              " 'our',\n",
              " 'ours',\n",
              " 'ourselves',\n",
              " 'out',\n",
              " 'over',\n",
              " 'own',\n",
              " 're',\n",
              " 's',\n",
              " 'same',\n",
              " 'shan',\n",
              " \"shan't\",\n",
              " 'she',\n",
              " \"she's\",\n",
              " 'should',\n",
              " \"should've\",\n",
              " 'shouldn',\n",
              " \"shouldn't\",\n",
              " 'so',\n",
              " 'some',\n",
              " 'such',\n",
              " 't',\n",
              " 'than',\n",
              " 'that',\n",
              " \"that'll\",\n",
              " 'the',\n",
              " 'their',\n",
              " 'theirs',\n",
              " 'them',\n",
              " 'themselves',\n",
              " 'then',\n",
              " 'there',\n",
              " 'these',\n",
              " 'they',\n",
              " 'this',\n",
              " 'those',\n",
              " 'through',\n",
              " 'to',\n",
              " 'too',\n",
              " 'under',\n",
              " 'until',\n",
              " 'up',\n",
              " 've',\n",
              " 'very',\n",
              " 'was',\n",
              " 'wasn',\n",
              " \"wasn't\",\n",
              " 'we',\n",
              " 'were',\n",
              " 'weren',\n",
              " \"weren't\",\n",
              " 'what',\n",
              " 'when',\n",
              " 'where',\n",
              " 'which',\n",
              " 'while',\n",
              " 'who',\n",
              " 'whom',\n",
              " 'why',\n",
              " 'will',\n",
              " 'with',\n",
              " 'won',\n",
              " \"won't\",\n",
              " 'wouldn',\n",
              " \"wouldn't\",\n",
              " 'y',\n",
              " 'you',\n",
              " \"you'd\",\n",
              " \"you'll\",\n",
              " \"you're\",\n",
              " \"you've\",\n",
              " 'your',\n",
              " 'yours',\n",
              " 'yourself',\n",
              " 'yourselves'}"
            ]
          },
          "metadata": {
            "tags": []
          },
          "execution_count": 78
        }
      ]
    },
    {
      "cell_type": "code",
      "metadata": {
        "colab": {
          "base_uri": "https://localhost:8080/"
        },
        "id": "wpiBZJtBOrTQ",
        "outputId": "219b45c7-5c33-4f39-8dcb-40182e964cd3"
      },
      "source": [
        "text = \"I am not a very good cricket player\".split()\n",
        "print(text)"
      ],
      "execution_count": 80,
      "outputs": [
        {
          "output_type": "stream",
          "text": [
            "['I', 'am', 'not', 'a', 'very', 'good', 'cricket', 'player']\n"
          ],
          "name": "stdout"
        }
      ]
    },
    {
      "cell_type": "code",
      "metadata": {
        "id": "_jOCnM6nO4F3"
      },
      "source": [
        "def remove_stopwords(text, stopwords):\n",
        "  useful = [w for w in text if w not in stopwords]\n",
        "  return useful"
      ],
      "execution_count": 85,
      "outputs": []
    },
    {
      "cell_type": "code",
      "metadata": {
        "colab": {
          "base_uri": "https://localhost:8080/"
        },
        "id": "k63JNbiTPifB",
        "outputId": "c6e7d821-2eeb-42b1-aab4-4405b40fb73b"
      },
      "source": [
        "useful_words = remove_stopwords(text, sw)\n",
        "print(useful_words)"
      ],
      "execution_count": 86,
      "outputs": [
        {
          "output_type": "stream",
          "text": [
            "['I', 'good', 'cricket', 'player']\n"
          ],
          "name": "stdout"
        }
      ]
    },
    {
      "cell_type": "markdown",
      "metadata": {
        "id": "vY8lQVAQQnpP"
      },
      "source": [
        "**Tokenization using Regex**"
      ]
    },
    {
      "cell_type": "code",
      "metadata": {
        "id": "Pvyt60EcQCKv"
      },
      "source": [
        "from nltk.tokenize import RegexpTokenizer"
      ],
      "execution_count": 97,
      "outputs": []
    },
    {
      "cell_type": "code",
      "metadata": {
        "colab": {
          "base_uri": "https://localhost:8080/"
        },
        "id": "yqmL64z0Rkv5",
        "outputId": "345e658a-0aba-4c1e-9d78-af965065cd8d"
      },
      "source": [
        "tokenizer = RegexpTokenizer('[a-zA-Z@.]+')\n",
        "useful = tokenizer.tokenize(sentence)\n",
        "print(useful)"
      ],
      "execution_count": 96,
      "outputs": [
        {
          "output_type": "stream",
          "text": [
            "['ML', 'is', 'OP', 'and', '@Yogesh.com', 'likes', 'ML']\n"
          ],
          "name": "stdout"
        }
      ]
    },
    {
      "cell_type": "markdown",
      "metadata": {
        "id": "_k8OOlzqTR-O"
      },
      "source": [
        "**Stemming**"
      ]
    },
    {
      "cell_type": "code",
      "metadata": {
        "id": "Rnjtp7_vSwob"
      },
      "source": [
        "from nltk.stem import SnowballStemmer, PorterStemmer, LancasterStemmer"
      ],
      "execution_count": 99,
      "outputs": []
    },
    {
      "cell_type": "code",
      "metadata": {
        "id": "R-hv31ixVNlR"
      },
      "source": [
        "ps = PorterStemmer()"
      ],
      "execution_count": 100,
      "outputs": []
    },
    {
      "cell_type": "code",
      "metadata": {
        "colab": {
          "base_uri": "https://localhost:8080/",
          "height": 35
        },
        "id": "ILgZStI_VSNq",
        "outputId": "f6667bdf-98d4-4e66-f1ca-1a62f756704e"
      },
      "source": [
        "ps.stem('running')"
      ],
      "execution_count": 101,
      "outputs": [
        {
          "output_type": "execute_result",
          "data": {
            "application/vnd.google.colaboratory.intrinsic+json": {
              "type": "string"
            },
            "text/plain": [
              "'run'"
            ]
          },
          "metadata": {
            "tags": []
          },
          "execution_count": 101
        }
      ]
    },
    {
      "cell_type": "code",
      "metadata": {
        "colab": {
          "base_uri": "https://localhost:8080/",
          "height": 35
        },
        "id": "vc7CMUJ-VXR5",
        "outputId": "9420e200-82c1-4934-9755-ee0701712199"
      },
      "source": [
        "ps.stem('laughed')"
      ],
      "execution_count": 103,
      "outputs": [
        {
          "output_type": "execute_result",
          "data": {
            "application/vnd.google.colaboratory.intrinsic+json": {
              "type": "string"
            },
            "text/plain": [
              "'laugh'"
            ]
          },
          "metadata": {
            "tags": []
          },
          "execution_count": 103
        }
      ]
    },
    {
      "cell_type": "code",
      "metadata": {
        "id": "RHAVzZRyV8qz"
      },
      "source": [
        "# Snowball Stemmer is multilingual means supports other languages also"
      ],
      "execution_count": null,
      "outputs": []
    },
    {
      "cell_type": "code",
      "metadata": {
        "id": "v7WhaNQNWHLO"
      },
      "source": [
        "corpus = [\n",
        "          \"If he had married her , he'd have been asking for trouble .\",\n",
        "          \"Dan Morgan told himself he would forget Ann Turner .\",\n",
        "          \"He certainly didn't want a wife who was fickle as Ann .\",\n",
        "          \"His plans and dreams had revolved around her so much and for so long that now he felt as if he had nothing .\",\n",
        "          \"If he had married her , he'd have been asking for trouble .\"\n",
        "]"
      ],
      "execution_count": 112,
      "outputs": []
    },
    {
      "cell_type": "markdown",
      "metadata": {
        "id": "i8SC_nUwebv1"
      },
      "source": [
        "**Vectorization**"
      ]
    },
    {
      "cell_type": "code",
      "metadata": {
        "id": "QetYqLDZa0_X"
      },
      "source": [
        "from sklearn.feature_extraction.text import CountVectorizer"
      ],
      "execution_count": 113,
      "outputs": []
    },
    {
      "cell_type": "code",
      "metadata": {
        "id": "_ZMlGYGgbCB9"
      },
      "source": [
        "cv = CountVectorizer()"
      ],
      "execution_count": 116,
      "outputs": []
    },
    {
      "cell_type": "code",
      "metadata": {
        "id": "qh4LgziLbFDP"
      },
      "source": [
        "vc = cv.fit_transform(corpus)"
      ],
      "execution_count": 117,
      "outputs": []
    },
    {
      "cell_type": "code",
      "metadata": {
        "colab": {
          "base_uri": "https://localhost:8080/"
        },
        "id": "8bxbwGcRbP_Q",
        "outputId": "dc730d24-69de-4529-e430-59761a4094cd"
      },
      "source": [
        "vc"
      ],
      "execution_count": 118,
      "outputs": [
        {
          "output_type": "execute_result",
          "data": {
            "text/plain": [
              "<5x39 sparse matrix of type '<class 'numpy.int64'>'\n",
              "\twith 58 stored elements in Compressed Sparse Row format>"
            ]
          },
          "metadata": {
            "tags": []
          },
          "execution_count": 118
        }
      ]
    },
    {
      "cell_type": "code",
      "metadata": {
        "colab": {
          "base_uri": "https://localhost:8080/"
        },
        "id": "fW3THV5YbaMU",
        "outputId": "fc294513-01e3-4d14-9235-fd72a612ce09"
      },
      "source": [
        "vc = vc.toarray()\n",
        "print(vc)"
      ],
      "execution_count": 124,
      "outputs": [
        {
          "output_type": "stream",
          "text": [
            "[[0 0 0 0 1 1 0 0 0 0 0 0 1 0 1 1 2 1 0 0 1 0 1 0 0 0 0 0 0 0 0 0 1 0 0 0\n",
            "  0 0 0]\n",
            " [0 1 0 0 0 0 0 1 0 0 0 0 0 1 0 0 1 0 1 0 0 0 0 1 0 0 0 0 0 0 0 1 0 1 0 0\n",
            "  0 0 1]\n",
            " [0 1 0 1 0 0 1 0 1 0 0 1 0 0 0 0 1 0 0 0 0 0 0 0 0 0 0 0 0 0 0 0 0 0 1 1\n",
            "  1 1 0]\n",
            " [2 0 1 1 0 0 0 0 0 1 1 0 1 0 2 0 2 1 0 1 1 1 0 0 1 1 1 1 1 2 1 0 0 0 0 0\n",
            "  0 0 0]\n",
            " [0 0 0 0 1 1 0 0 0 0 0 0 1 0 1 1 2 1 0 0 1 0 1 0 0 0 0 0 0 0 0 0 1 0 0 0\n",
            "  0 0 0]]\n"
          ],
          "name": "stdout"
        }
      ]
    },
    {
      "cell_type": "code",
      "metadata": {
        "colab": {
          "base_uri": "https://localhost:8080/"
        },
        "id": "StF8ZP7HbxeB",
        "outputId": "ca268451-f8a0-48d1-b539-1cb815c164fb"
      },
      "source": [
        "print(cv.vocabulary_)"
      ],
      "execution_count": 126,
      "outputs": [
        {
          "output_type": "stream",
          "text": [
            "{'if': 20, 'he': 16, 'had': 14, 'married': 22, 'her': 17, 'have': 15, 'been': 5, 'asking': 4, 'for': 12, 'trouble': 32, 'dan': 7, 'morgan': 23, 'told': 31, 'himself': 18, 'would': 38, 'forget': 13, 'ann': 1, 'turner': 33, 'certainly': 6, 'didn': 8, 'want': 34, 'wife': 37, 'who': 36, 'was': 35, 'fickle': 11, 'as': 3, 'his': 19, 'plans': 27, 'and': 0, 'dreams': 9, 'revolved': 28, 'around': 2, 'so': 29, 'much': 24, 'long': 21, 'that': 30, 'now': 26, 'felt': 10, 'nothing': 25}\n"
          ],
          "name": "stdout"
        }
      ]
    },
    {
      "cell_type": "code",
      "metadata": {
        "colab": {
          "base_uri": "https://localhost:8080/"
        },
        "id": "UvdeJ2_DcdvC",
        "outputId": "2e84ac1a-24d0-47ba-bfa9-20335ae86c78"
      },
      "source": [
        "print(len(cv.vocabulary_)) # _ means generating executing fit_transform fn."
      ],
      "execution_count": 123,
      "outputs": [
        {
          "output_type": "stream",
          "text": [
            "39\n"
          ],
          "name": "stdout"
        }
      ]
    },
    {
      "cell_type": "code",
      "metadata": {
        "id": "Ip6zjpJtdW9n"
      },
      "source": [
        "numbers = vc[2]"
      ],
      "execution_count": 127,
      "outputs": []
    },
    {
      "cell_type": "code",
      "metadata": {
        "colab": {
          "base_uri": "https://localhost:8080/"
        },
        "id": "-TyB9etxeCxy",
        "outputId": "a603b097-17c2-4981-8575-5d86a191f47e"
      },
      "source": [
        "print(numbers)\n",
        "print(len(numbers))"
      ],
      "execution_count": 128,
      "outputs": [
        {
          "output_type": "stream",
          "text": [
            "[0 1 0 1 0 0 1 0 1 0 0 1 0 0 0 0 1 0 0 0 0 0 0 0 0 0 0 0 0 0 0 0 0 0 1 1 1\n",
            " 1 0]\n",
            "39\n"
          ],
          "name": "stdout"
        }
      ]
    },
    {
      "cell_type": "code",
      "metadata": {
        "colab": {
          "base_uri": "https://localhost:8080/"
        },
        "id": "OKNp2GmxeMWJ",
        "outputId": "10c57cee-042f-4b74-b88f-82168c925507"
      },
      "source": [
        "len(vc[1])"
      ],
      "execution_count": 129,
      "outputs": [
        {
          "output_type": "execute_result",
          "data": {
            "text/plain": [
              "39"
            ]
          },
          "metadata": {
            "tags": []
          },
          "execution_count": 129
        }
      ]
    },
    {
      "cell_type": "code",
      "metadata": {
        "id": "QOdv155PejC6"
      },
      "source": [
        "def myTokenizer(document):\n",
        "  words = tokenizer.tokenize(document.lower())\n",
        "  #remove stopwords\n",
        "  words = remove_stopwords(words, sw) #Using remove_stopwords fn.\n",
        "  return words"
      ],
      "execution_count": 131,
      "outputs": []
    },
    {
      "cell_type": "code",
      "metadata": {
        "colab": {
          "base_uri": "https://localhost:8080/"
        },
        "id": "GktEQiD3fA2r",
        "outputId": "fb699e72-cf11-486c-af4e-ac2967183219"
      },
      "source": [
        "myTokenizer('this is a random text')"
      ],
      "execution_count": 132,
      "outputs": [
        {
          "output_type": "execute_result",
          "data": {
            "text/plain": [
              "['random', 'text']"
            ]
          },
          "metadata": {
            "tags": []
          },
          "execution_count": 132
        }
      ]
    },
    {
      "cell_type": "code",
      "metadata": {
        "id": "RMw0_HJWffg7"
      },
      "source": [
        "cv = CountVectorizer?"
      ],
      "execution_count": 136,
      "outputs": []
    },
    {
      "cell_type": "code",
      "metadata": {
        "id": "o-n4caqRgaAX"
      },
      "source": [
        "cv = CountVectorizer(tokenizer=myTokenizer)"
      ],
      "execution_count": 137,
      "outputs": []
    },
    {
      "cell_type": "code",
      "metadata": {
        "id": "Hm5SOjDrgitW"
      },
      "source": [
        "vc = cv.fit_transform(corpus).toarray()"
      ],
      "execution_count": 138,
      "outputs": []
    },
    {
      "cell_type": "code",
      "metadata": {
        "colab": {
          "base_uri": "https://localhost:8080/"
        },
        "id": "bGtVBqfAgsmr",
        "outputId": "f3003fb8-f5df-405c-f2ff-e181c4893fd5"
      },
      "source": [
        "print(vc)"
      ],
      "execution_count": 139,
      "outputs": [
        {
          "output_type": "stream",
          "text": [
            "[[1 0 0 1 0 0 0 0 0 0 0 1 0 0 0 0 0 0 1 0 0 0 0]\n",
            " [1 1 0 0 0 1 0 0 0 1 0 0 1 0 0 0 0 1 0 1 0 0 1]\n",
            " [1 1 0 0 1 0 0 0 1 0 0 0 0 0 0 0 0 0 0 0 1 1 0]\n",
            " [1 0 1 0 0 0 1 1 0 0 1 0 0 1 1 1 1 0 0 0 0 0 0]\n",
            " [1 0 0 1 0 0 0 0 0 0 0 1 0 0 0 0 0 0 1 0 0 0 0]]\n"
          ],
          "name": "stdout"
        }
      ]
    },
    {
      "cell_type": "code",
      "metadata": {
        "colab": {
          "base_uri": "https://localhost:8080/"
        },
        "id": "QXtYYAgegx_O",
        "outputId": "3e4ca93b-38a1-4f04-8602-771b771ead9a"
      },
      "source": [
        "len(vc)"
      ],
      "execution_count": 140,
      "outputs": [
        {
          "output_type": "execute_result",
          "data": {
            "text/plain": [
              "5"
            ]
          },
          "metadata": {
            "tags": []
          },
          "execution_count": 140
        }
      ]
    },
    {
      "cell_type": "code",
      "metadata": {
        "colab": {
          "base_uri": "https://localhost:8080/"
        },
        "id": "DaG2Z6c0hPgo",
        "outputId": "2976c2b4-388a-4bc7-8fd3-c51440ca248b"
      },
      "source": [
        "len(vc[0])"
      ],
      "execution_count": 142,
      "outputs": [
        {
          "output_type": "execute_result",
          "data": {
            "text/plain": [
              "23"
            ]
          },
          "metadata": {
            "tags": []
          },
          "execution_count": 142
        }
      ]
    },
    {
      "cell_type": "code",
      "metadata": {
        "colab": {
          "base_uri": "https://localhost:8080/"
        },
        "id": "oyvb1o_Eg2Rh",
        "outputId": "8669e330-3153-4c7d-d458-4567af4b2835"
      },
      "source": [
        "cv.vocabulary_"
      ],
      "execution_count": 141,
      "outputs": [
        {
          "output_type": "execute_result",
          "data": {
            "text/plain": [
              "{'.': 0,\n",
              " 'ann': 1,\n",
              " 'around': 2,\n",
              " 'asking': 3,\n",
              " 'certainly': 4,\n",
              " 'dan': 5,\n",
              " 'dreams': 6,\n",
              " 'felt': 7,\n",
              " 'fickle': 8,\n",
              " 'forget': 9,\n",
              " 'long': 10,\n",
              " 'married': 11,\n",
              " 'morgan': 12,\n",
              " 'much': 13,\n",
              " 'nothing': 14,\n",
              " 'plans': 15,\n",
              " 'revolved': 16,\n",
              " 'told': 17,\n",
              " 'trouble': 18,\n",
              " 'turner': 19,\n",
              " 'want': 20,\n",
              " 'wife': 21,\n",
              " 'would': 22}"
            ]
          },
          "metadata": {
            "tags": []
          },
          "execution_count": 141
        }
      ]
    },
    {
      "cell_type": "code",
      "metadata": {
        "id": "G-cqdlu0hBrB"
      },
      "source": [
        "cv.fit?"
      ],
      "execution_count": 147,
      "outputs": []
    },
    {
      "cell_type": "code",
      "metadata": {
        "id": "6unrepLdlLe5"
      },
      "source": [
        "cv.transform?"
      ],
      "execution_count": 148,
      "outputs": []
    },
    {
      "cell_type": "code",
      "metadata": {
        "colab": {
          "base_uri": "https://localhost:8080/"
        },
        "id": "Akmb39yolXug",
        "outputId": "e4a14162-94eb-4605-8089-8d796cf97448"
      },
      "source": [
        "len(cv.transform(corpus).toarray()[0])"
      ],
      "execution_count": 158,
      "outputs": [
        {
          "output_type": "execute_result",
          "data": {
            "text/plain": [
              "23"
            ]
          },
          "metadata": {
            "tags": []
          },
          "execution_count": 158
        }
      ]
    },
    {
      "cell_type": "code",
      "metadata": {
        "colab": {
          "base_uri": "https://localhost:8080/"
        },
        "id": "NfUbFgd1mRy8",
        "outputId": "381ebc90-8f04-485d-f19d-0eed79790639"
      },
      "source": [
        "cv.vocabulary_"
      ],
      "execution_count": 159,
      "outputs": [
        {
          "output_type": "execute_result",
          "data": {
            "text/plain": [
              "{'.': 0,\n",
              " 'ann': 1,\n",
              " 'around': 2,\n",
              " 'asking': 3,\n",
              " 'certainly': 4,\n",
              " 'dan': 5,\n",
              " 'dreams': 6,\n",
              " 'felt': 7,\n",
              " 'fickle': 8,\n",
              " 'forget': 9,\n",
              " 'long': 10,\n",
              " 'married': 11,\n",
              " 'morgan': 12,\n",
              " 'much': 13,\n",
              " 'nothing': 14,\n",
              " 'plans': 15,\n",
              " 'revolved': 16,\n",
              " 'told': 17,\n",
              " 'trouble': 18,\n",
              " 'turner': 19,\n",
              " 'want': 20,\n",
              " 'wife': 21,\n",
              " 'would': 22}"
            ]
          },
          "metadata": {
            "tags": []
          },
          "execution_count": 159
        }
      ]
    },
    {
      "cell_type": "code",
      "metadata": {
        "id": "XlGO7krGmvyd"
      },
      "source": [
        "# fit_transform is used in training\n",
        "#transform is used in testing"
      ],
      "execution_count": null,
      "outputs": []
    }
  ]
}